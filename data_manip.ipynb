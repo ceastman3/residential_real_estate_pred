{
 "cells": [
  {
   "cell_type": "code",
   "execution_count": 1,
   "metadata": {},
   "outputs": [
    {
     "name": "stderr",
     "output_type": "stream",
     "text": [
      "/var/folders/qy/9tfjb9m90gdcrh6z8bn8k_nh0000gn/T/ipykernel_20409/4101296628.py:1: DeprecationWarning: \n",
      "Pyarrow will become a required dependency of pandas in the next major release of pandas (pandas 3.0),\n",
      "(to allow more performant data types, such as the Arrow string type, and better interoperability with other libraries)\n",
      "but was not found to be installed on your system.\n",
      "If this would cause problems for you,\n",
      "please provide us feedback at https://github.com/pandas-dev/pandas/issues/54466\n",
      "        \n",
      "  import pandas as pd\n"
     ]
    }
   ],
   "source": [
    "import pandas as pd\n",
    "import numpy as np\n",
    "\n",
    "# realtor_data = pd.read_csv(\"data/realtor-data.csv\")\n",
    "# NY_data = realtor_data.loc[realtor_data[\"state\"] == \"New York\"]\n",
    "# NY_data = NY_data.drop([\"brokered_by\", \"status\", \"prev_sold_date\"], axis=1)\n",
    "# NY_data.head()"
   ]
  },
  {
   "cell_type": "code",
   "execution_count": 9,
   "metadata": {},
   "outputs": [
    {
     "data": {
      "text/plain": [
       "50755"
      ]
     },
     "execution_count": 9,
     "metadata": {},
     "output_type": "execute_result"
    }
   ],
   "source": [
    "NY_data = pd.read_csv(\"data/NY_data.csv\")\n",
    "len(NY_data.index)"
   ]
  },
  {
   "cell_type": "code",
   "execution_count": 10,
   "metadata": {},
   "outputs": [
    {
     "data": {
      "text/html": [
       "<div>\n",
       "<style scoped>\n",
       "    .dataframe tbody tr th:only-of-type {\n",
       "        vertical-align: middle;\n",
       "    }\n",
       "\n",
       "    .dataframe tbody tr th {\n",
       "        vertical-align: top;\n",
       "    }\n",
       "\n",
       "    .dataframe thead th {\n",
       "        text-align: right;\n",
       "    }\n",
       "</style>\n",
       "<table border=\"1\" class=\"dataframe\">\n",
       "  <thead>\n",
       "    <tr style=\"text-align: right;\">\n",
       "      <th></th>\n",
       "      <th>price</th>\n",
       "      <th>bed</th>\n",
       "      <th>bath</th>\n",
       "      <th>acre_lot</th>\n",
       "      <th>zip_code</th>\n",
       "      <th>house_size</th>\n",
       "    </tr>\n",
       "  </thead>\n",
       "  <tbody>\n",
       "    <tr>\n",
       "      <th>0</th>\n",
       "      <td>175000.0</td>\n",
       "      <td>3.0</td>\n",
       "      <td>1.0</td>\n",
       "      <td>60.00</td>\n",
       "      <td>12022.0</td>\n",
       "      <td>1176.0</td>\n",
       "    </tr>\n",
       "    <tr>\n",
       "      <th>1</th>\n",
       "      <td>425000.0</td>\n",
       "      <td>3.0</td>\n",
       "      <td>2.0</td>\n",
       "      <td>2.02</td>\n",
       "      <td>12521.0</td>\n",
       "      <td>1600.0</td>\n",
       "    </tr>\n",
       "    <tr>\n",
       "      <th>2</th>\n",
       "      <td>225000.0</td>\n",
       "      <td>4.0</td>\n",
       "      <td>2.0</td>\n",
       "      <td>0.24</td>\n",
       "      <td>12521.0</td>\n",
       "      <td>1239.0</td>\n",
       "    </tr>\n",
       "    <tr>\n",
       "      <th>3</th>\n",
       "      <td>419000.0</td>\n",
       "      <td>3.0</td>\n",
       "      <td>3.0</td>\n",
       "      <td>1.90</td>\n",
       "      <td>12516.0</td>\n",
       "      <td>1800.0</td>\n",
       "    </tr>\n",
       "    <tr>\n",
       "      <th>4</th>\n",
       "      <td>365000.0</td>\n",
       "      <td>3.0</td>\n",
       "      <td>2.0</td>\n",
       "      <td>2.00</td>\n",
       "      <td>12517.0</td>\n",
       "      <td>1482.0</td>\n",
       "    </tr>\n",
       "  </tbody>\n",
       "</table>\n",
       "</div>"
      ],
      "text/plain": [
       "      price  bed  bath  acre_lot  zip_code  house_size\n",
       "0  175000.0  3.0   1.0     60.00   12022.0      1176.0\n",
       "1  425000.0  3.0   2.0      2.02   12521.0      1600.0\n",
       "2  225000.0  4.0   2.0      0.24   12521.0      1239.0\n",
       "3  419000.0  3.0   3.0      1.90   12516.0      1800.0\n",
       "4  365000.0  3.0   2.0      2.00   12517.0      1482.0"
      ]
     },
     "execution_count": 10,
     "metadata": {},
     "output_type": "execute_result"
    }
   ],
   "source": [
    "NY_data.head()"
   ]
  },
  {
   "cell_type": "code",
   "execution_count": 12,
   "metadata": {},
   "outputs": [
    {
     "data": {
      "text/plain": [
       "0"
      ]
     },
     "execution_count": 12,
     "metadata": {},
     "output_type": "execute_result"
    }
   ],
   "source": [
    "from sklearn.preprocessing import OneHotEncoder\n",
    "\n",
    "nan_count = NY_data['price'].isna().sum()\n",
    "nan_count = NY_data['house_size'].isna().sum()\n",
    "\n",
    "# df = NY_data.dropna()\n",
    "# df.drop(columns=[\"street\", \"city, \"state\"], inplace=True)\n",
    "# len(df.index)\n",
    "\n",
    "NY_data['zip_code'] = NY_data['zip_code'].astype(int)\n",
    "\n",
    "# Separate numerical and categorical columns\n",
    "# numerical_cols = NY_data.select_dtypes(include=['int64', 'float64']).columns\n",
    "# categorical_cols = NY_data.select_dtypes(include=['object', 'category']).columns\n",
    "\n",
    "# encoder = OneHotEncoder(handle_unknown='ignore', sparse_output=False)\n",
    "# encoded_cats = encoder.fit_transform(numerical_cols)\n",
    "\n",
    "# # Correctly name the one-hot encoded columns\n",
    "# encoded_cats_df = pd.DataFrame(encoded_cats, columns=encoder.get_feature_names_out(categorical_cols))\n",
    "\n",
    "# # # Combine numerical columns and encoded categorical columns\n",
    "# combined_data = pd.concat([NY_data[numerical_cols], encoded_cats_df], axis=1)\n",
    "NY_data.head()"
   ]
  },
  {
   "cell_type": "code",
   "execution_count": 39,
   "metadata": {},
   "outputs": [],
   "source": [
    "df.to_csv(\"data/NY_data.csv\", index=False)\n",
    "# from sklearn.impute import KNNImputer\n",
    "\n",
    "# NY_data = NY_data.iloc[:100]\n",
    "\n",
    "\n",
    "# # For simplicity, this example uses One-Hot Encoding for categorical columns\n",
    "\n",
    "# # Apply KNNImputer\n",
    "# imputer = KNNImputer(n_neighbors=5)\n",
    "# imputed_data = imputer.fit_transform(combined_data)\n",
    "\n",
    "# # NY_data = pd.DataFrame(imputed_data, columns=NY_data.columns, index=NY_data.index)\n",
    "\n",
    "# # NY_data.head()"
   ]
  }
 ],
 "metadata": {
  "kernelspec": {
   "display_name": "Python 3.8.6 64-bit",
   "language": "python",
   "name": "python3"
  },
  "language_info": {
   "codemirror_mode": {
    "name": "ipython",
    "version": 3
   },
   "file_extension": ".py",
   "mimetype": "text/x-python",
   "name": "python",
   "nbconvert_exporter": "python",
   "pygments_lexer": "ipython3",
   "version": "3.12.0"
  },
  "vscode": {
   "interpreter": {
    "hash": "06e09188ad4cb5fbad9645030cf25c93fafa7ada9debbe1a566fc3b76c1d60a5"
   }
  }
 },
 "nbformat": 4,
 "nbformat_minor": 2
}
