{
 "cells": [
  {
   "cell_type": "code",
   "execution_count": null,
   "metadata": {},
   "outputs": [],
   "source": [
    "import pandas as pd\n",
    "import numpy as np\n",
    "\n",
    "# realtor_data = pd.read_csv(\"data/realtor-data.csv\")\n",
    "# NY_data = realtor_data.loc[realtor_data[\"state\"] == \"New York\"]\n",
    "# NY_data = NY_data.drop([\"brokered_by\", \"status\", \"prev_sold_date\"], axis=1)\n",
    "# NY_data.head()"
   ]
  },
  {
   "cell_type": "code",
   "execution_count": null,
   "metadata": {},
   "outputs": [],
   "source": [
    "NY_data = pd.read_csv(\"data/NY_data.csv\")\n",
    "len(NY_data.index)"
   ]
  },
  {
   "cell_type": "code",
   "execution_count": null,
   "metadata": {},
   "outputs": [],
   "source": [
    "NY_data.head()"
   ]
  },
  {
   "cell_type": "code",
   "execution_count": null,
   "metadata": {},
   "outputs": [],
   "source": [
    "from sklearn.preprocessing import OneHotEncoder\n",
    "\n",
    "nan_count = NY_data['price'].isna().sum()\n",
    "nan_count = NY_data['house_size'].isna().sum()\n",
    "\n",
    "df = NY_data.dropna()\n",
    "df.drop(columns=[\"street\"], inplace=True)\n",
    "len(df.index)\n",
    "\n",
    "# Separate numerical and categorical columns\n",
    "# numerical_cols = NY_data.select_dtypes(include=['int64', 'float64']).columns\n",
    "# categorical_cols = NY_data.select_dtypes(include=['object', 'category']).columns\n",
    "\n",
    "# encoder = OneHotEncoder(handle_unknown='ignore', sparse_output=False)\n",
    "# encoded_cats = encoder.fit_transform(numerical_cols)\n",
    "\n",
    "# # Correctly name the one-hot encoded columns\n",
    "# encoded_cats_df = pd.DataFrame(encoded_cats, columns=encoder.get_feature_names_out(categorical_cols))\n",
    "\n",
    "# # # Combine numerical columns and encoded categorical columns\n",
    "# combined_data = pd.concat([NY_data[numerical_cols], encoded_cats_df], axis=1)"
   ]
  },
  {
   "cell_type": "code",
   "execution_count": 39,
   "metadata": {},
   "outputs": [],
   "source": [
    "df.to_csv(\"data/NY_data.csv\", index=False)\n",
    "# from sklearn.impute import KNNImputer\n",
    "\n",
    "# NY_data = NY_data.iloc[:100]\n",
    "\n",
    "\n",
    "# # For simplicity, this example uses One-Hot Encoding for categorical columns\n",
    "\n",
    "# # Apply KNNImputer\n",
    "# imputer = KNNImputer(n_neighbors=5)\n",
    "# imputed_data = imputer.fit_transform(combined_data)\n",
    "\n",
    "# # NY_data = pd.DataFrame(imputed_data, columns=NY_data.columns, index=NY_data.index)\n",
    "\n",
    "# # NY_data.head()"
   ]
  }
 ],
 "metadata": {
  "kernelspec": {
   "display_name": "Python 3.8.6 64-bit",
   "language": "python",
   "name": "python3"
  },
  "language_info": {
   "codemirror_mode": {
    "name": "ipython",
    "version": 3
   },
   "file_extension": ".py",
   "mimetype": "text/x-python",
   "name": "python",
   "nbconvert_exporter": "python",
   "pygments_lexer": "ipython3",
   "version": "3.8.6"
  },
  "vscode": {
   "interpreter": {
    "hash": "06e09188ad4cb5fbad9645030cf25c93fafa7ada9debbe1a566fc3b76c1d60a5"
   }
  }
 },
 "nbformat": 4,
 "nbformat_minor": 2
}
