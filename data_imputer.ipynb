{
 "cells": [
  {
   "cell_type": "code",
   "execution_count": 1,
   "metadata": {},
   "outputs": [
    {
     "name": "stderr",
     "output_type": "stream",
     "text": [
      "/var/folders/qy/9tfjb9m90gdcrh6z8bn8k_nh0000gn/T/ipykernel_20539/2162656668.py:1: DeprecationWarning: \n",
      "Pyarrow will become a required dependency of pandas in the next major release of pandas (pandas 3.0),\n",
      "(to allow more performant data types, such as the Arrow string type, and better interoperability with other libraries)\n",
      "but was not found to be installed on your system.\n",
      "If this would cause problems for you,\n",
      "please provide us feedback at https://github.com/pandas-dev/pandas/issues/54466\n",
      "        \n",
      "  import pandas as pd\n"
     ]
    }
   ],
   "source": [
    "import pandas as pd\n",
    "import numpy as np"
   ]
  },
  {
   "cell_type": "code",
   "execution_count": 15,
   "metadata": {},
   "outputs": [
    {
     "data": {
      "text/plain": [
       "price             2\n",
       "bed           16248\n",
       "bath          13205\n",
       "acre_lot      29289\n",
       "zip_code         21\n",
       "house_size    30194\n",
       "dtype: int64"
      ]
     },
     "execution_count": 15,
     "metadata": {},
     "output_type": "execute_result"
    }
   ],
   "source": [
    "NY_data = pd.read_csv(\"data/NY_data_full.csv\")\n",
    "NY_data.drop(columns=[\"street\", \"city\", \"state\"], inplace=True)\n",
    "# NY_data['zip_code'] = NY_data['zip_code'].astype(int)\n",
    "NY_data['zip_code'] = pd.to_numeric(NY_data['zip_code'], errors='coerce').astype('Int64')\n",
    "NY_data.isna().sum()\n",
    "# NY_data.head()"
   ]
  },
  {
   "cell_type": "code",
   "execution_count": 14,
   "metadata": {},
   "outputs": [
    {
     "data": {
      "text/plain": [
       "0    0\n",
       "1    0\n",
       "2    0\n",
       "3    0\n",
       "4    0\n",
       "5    0\n",
       "dtype: int64"
      ]
     },
     "execution_count": 14,
     "metadata": {},
     "output_type": "execute_result"
    }
   ],
   "source": [
    "from sklearn.impute import KNNImputer\n",
    "\n",
    "NY_data_short = NY_data.iloc[:100]\n",
    "# NY_data_short.isna().sum()\n",
    "# Apply KNNImputer\n",
    "imputer = KNNImputer(n_neighbors=10)\n",
    "imputed_data = imputer.fit_transform(NY_data_short)\n",
    "imputed_data = imputer.fit_transform(NY_data)\n",
    "imputed_data = pd.DataFrame(imputed_data)\n",
    "\n",
    "imputed_data.isna().sum()\n"
   ]
  },
  {
   "cell_type": "code",
   "execution_count": null,
   "metadata": {},
   "outputs": [],
   "source": [
    "# imputed_data.to_csv(\"data/NY_data_imputed.csv\", index=False)"
   ]
  }
 ],
 "metadata": {
  "kernelspec": {
   "display_name": "Python 3",
   "language": "python",
   "name": "python3"
  },
  "language_info": {
   "codemirror_mode": {
    "name": "ipython",
    "version": 3
   },
   "file_extension": ".py",
   "mimetype": "text/x-python",
   "name": "python",
   "nbconvert_exporter": "python",
   "pygments_lexer": "ipython3",
   "version": "3.12.0"
  }
 },
 "nbformat": 4,
 "nbformat_minor": 2
}
