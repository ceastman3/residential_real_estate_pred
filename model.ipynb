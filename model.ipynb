{
 "cells": [
  {
   "cell_type": "code",
   "execution_count": 63,
   "metadata": {},
   "outputs": [],
   "source": [
    "import tensorflow as tf\n",
    "import pandas as pd\n",
    "import numpy as np\n",
    "from sklearn.model_selection import train_test_split\n",
    "from sklearn.preprocessing import MinMaxScaler\n",
    "import matplotlib.pyplot as plt"
   ]
  },
  {
   "cell_type": "markdown",
   "metadata": {},
   "source": [
    "0. Set Hyperparamters"
   ]
  },
  {
   "cell_type": "code",
   "execution_count": 206,
   "metadata": {},
   "outputs": [],
   "source": [
    "train_ratio = 0.8\n",
    "validation_ratio = 0.2\n",
    "epochs = 1000\n",
    "batch_size = 32\n",
    "regularization = 0.0001"
   ]
  },
  {
   "cell_type": "markdown",
   "metadata": {},
   "source": [
    "1. Import Data"
   ]
  },
  {
   "cell_type": "code",
   "execution_count": 207,
   "metadata": {},
   "outputs": [],
   "source": [
    "def remove_outliers_z_score(df, threshold=2):\n",
    "    z_scores = (df - df.mean()) / df.std()\n",
    "    outliers = (z_scores.abs() > threshold).any(axis=1)\n",
    "    return df[~outliers]"
   ]
  },
  {
   "cell_type": "code",
   "execution_count": 214,
   "metadata": {},
   "outputs": [],
   "source": [
    "# 1. Import data\n",
    "NY_data = pd.read_csv(\"data/NY_data.csv\")\n",
    "\n",
    "# 2. Remove outliers based on z-score\n",
    "NY_data = remove_outliers_z_score(NY_data)\n",
    "\n",
    "# 3. Split data into x and y values\n",
    "y = NY_data['price']\n",
    "X = NY_data.drop(columns=['price'])\n",
    "\n",
    "# 4. One Hot Encode Zip Codes\n",
    "X = pd.get_dummies(X, columns=['zip_code'], dtype=float)\n",
    "\n",
    "# 5. Split data into Train vs. Test\n",
    "X_train, X_test, y_train, y_test = train_test_split(X, y, train_size=train_ratio, random_state=42)\n",
    "X_train, X_val, y_train, y_val = train_test_split(X_train, y_train, test_size=validation_ratio, random_state=42)\n",
    "\n",
    "# 6. Normalize data\n",
    "X_scaler = MinMaxScaler()\n",
    "y_scaler = MinMaxScaler()\n",
    "\n",
    "X_train_norm = X_scaler.fit_transform(X_train)\n",
    "X_val_norm = X_scaler.transform(X_val)\n",
    "X_test_norm = X_scaler.transform(X_test)\n",
    "\n",
    "y_train_norm = y_scaler.fit_transform(y_train.values.reshape(-1, 1))\n",
    "y_val_norm = y_scaler.transform(y_val.values.reshape(-1, 1))\n",
    "y_test_norm = y_scaler.transform(y_test.values.reshape(-1, 1))"
   ]
  },
  {
   "cell_type": "code",
   "execution_count": 215,
   "metadata": {},
   "outputs": [],
   "source": [
    "DNN = tf.keras.models.Sequential([\n",
    "    tf.keras.layers.Dense(6, input_dim=X.shape[1], activation='relu'),\n",
    "    tf.keras.layers.BatchNormalization(),\n",
    "    tf.keras.layers.Dropout(0.1),\n",
    "    tf.keras.layers.Dense(128, activation='relu'),\n",
    "    tf.keras.layers.BatchNormalization(),\n",
    "    tf.keras.layers.Dropout(0.1),\n",
    "    tf.keras.layers.Dense(128, activation='relu'),\n",
    "    tf.keras.layers.BatchNormalization(),\n",
    "    tf.keras.layers.Dropout(0.1),\n",
    "    tf.keras.layers.Dense(128, activation='relu'),\n",
    "    tf.keras.layers.Dense(1)\n",
    "])\n",
    "\n",
    "early_stop = tf.keras.callbacks.EarlyStopping(patience=15, restore_best_weights=True)\n",
    "\n",
    "DNN.compile(loss='mse', optimizer='adam')"
   ]
  },
  {
   "cell_type": "markdown",
   "metadata": {},
   "source": [
    "2. Model Initilization"
   ]
  },
  {
   "cell_type": "code",
   "execution_count": 216,
   "metadata": {},
   "outputs": [
    {
     "name": "stdout",
     "output_type": "stream",
     "text": [
      "Epoch 1/1000\n",
      "944/944 [==============================] - 2s 2ms/step - loss: 0.0552 - val_loss: 0.0135\n",
      "Epoch 2/1000\n",
      "944/944 [==============================] - 1s 2ms/step - loss: 0.0161 - val_loss: 0.0083\n",
      "Epoch 3/1000\n",
      "944/944 [==============================] - 1s 2ms/step - loss: 0.0101 - val_loss: 0.0058\n",
      "Epoch 4/1000\n",
      "944/944 [==============================] - 1s 2ms/step - loss: 0.0070 - val_loss: 0.0046\n",
      "Epoch 5/1000\n",
      "944/944 [==============================] - 1s 2ms/step - loss: 0.0056 - val_loss: 0.0039\n",
      "Epoch 6/1000\n",
      "944/944 [==============================] - 1s 2ms/step - loss: 0.0050 - val_loss: 0.0033\n",
      "Epoch 7/1000\n",
      "944/944 [==============================] - 1s 2ms/step - loss: 0.0045 - val_loss: 0.0034\n",
      "Epoch 8/1000\n",
      "944/944 [==============================] - 1s 2ms/step - loss: 0.0043 - val_loss: 0.0033\n",
      "Epoch 9/1000\n",
      "944/944 [==============================] - 1s 2ms/step - loss: 0.0040 - val_loss: 0.0032\n",
      "Epoch 10/1000\n",
      "944/944 [==============================] - 1s 2ms/step - loss: 0.0039 - val_loss: 0.0032\n",
      "Epoch 11/1000\n",
      "944/944 [==============================] - 1s 2ms/step - loss: 0.0037 - val_loss: 0.0034\n",
      "Epoch 12/1000\n",
      "944/944 [==============================] - 1s 2ms/step - loss: 0.0036 - val_loss: 0.0030\n",
      "Epoch 13/1000\n",
      "944/944 [==============================] - 1s 2ms/step - loss: 0.0034 - val_loss: 0.0029\n",
      "Epoch 14/1000\n",
      "944/944 [==============================] - 1s 2ms/step - loss: 0.0033 - val_loss: 0.0031\n",
      "Epoch 15/1000\n",
      "944/944 [==============================] - 1s 2ms/step - loss: 0.0033 - val_loss: 0.0030\n",
      "Epoch 16/1000\n",
      "944/944 [==============================] - 1s 2ms/step - loss: 0.0031 - val_loss: 0.0031\n",
      "Epoch 17/1000\n",
      "944/944 [==============================] - 1s 2ms/step - loss: 0.0031 - val_loss: 0.0028\n",
      "Epoch 18/1000\n",
      "944/944 [==============================] - 1s 2ms/step - loss: 0.0030 - val_loss: 0.0029\n",
      "Epoch 19/1000\n",
      "944/944 [==============================] - 1s 2ms/step - loss: 0.0029 - val_loss: 0.0030\n",
      "Epoch 20/1000\n",
      "944/944 [==============================] - 1s 2ms/step - loss: 0.0029 - val_loss: 0.0033\n",
      "Epoch 21/1000\n",
      "944/944 [==============================] - 1s 2ms/step - loss: 0.0028 - val_loss: 0.0028\n",
      "Epoch 22/1000\n",
      "944/944 [==============================] - 1s 2ms/step - loss: 0.0028 - val_loss: 0.0030\n",
      "Epoch 23/1000\n",
      "944/944 [==============================] - 1s 2ms/step - loss: 0.0028 - val_loss: 0.0027\n",
      "Epoch 24/1000\n",
      "944/944 [==============================] - 1s 2ms/step - loss: 0.0027 - val_loss: 0.0029\n",
      "Epoch 25/1000\n",
      "944/944 [==============================] - 1s 2ms/step - loss: 0.0028 - val_loss: 0.0028\n",
      "Epoch 26/1000\n",
      "944/944 [==============================] - 1s 2ms/step - loss: 0.0027 - val_loss: 0.0030\n",
      "Epoch 27/1000\n",
      "944/944 [==============================] - 1s 2ms/step - loss: 0.0027 - val_loss: 0.0028\n",
      "Epoch 28/1000\n",
      "944/944 [==============================] - 1s 2ms/step - loss: 0.0026 - val_loss: 0.0031\n",
      "Epoch 29/1000\n",
      "944/944 [==============================] - 1s 2ms/step - loss: 0.0026 - val_loss: 0.0027\n",
      "Epoch 30/1000\n",
      "944/944 [==============================] - 1s 2ms/step - loss: 0.0026 - val_loss: 0.0030\n",
      "Epoch 31/1000\n",
      "944/944 [==============================] - 1s 2ms/step - loss: 0.0026 - val_loss: 0.0029\n",
      "Epoch 32/1000\n",
      "944/944 [==============================] - 1s 2ms/step - loss: 0.0026 - val_loss: 0.0027\n",
      "Epoch 33/1000\n",
      "944/944 [==============================] - 1s 2ms/step - loss: 0.0025 - val_loss: 0.0027\n",
      "Epoch 34/1000\n",
      "944/944 [==============================] - 1s 2ms/step - loss: 0.0026 - val_loss: 0.0029\n",
      "Epoch 35/1000\n",
      "944/944 [==============================] - 1s 2ms/step - loss: 0.0025 - val_loss: 0.0028\n",
      "Epoch 36/1000\n",
      "944/944 [==============================] - 1s 2ms/step - loss: 0.0026 - val_loss: 0.0027\n",
      "Epoch 37/1000\n",
      "944/944 [==============================] - 1s 2ms/step - loss: 0.0026 - val_loss: 0.0028\n",
      "Epoch 38/1000\n",
      "944/944 [==============================] - 1s 2ms/step - loss: 0.0025 - val_loss: 0.0028\n",
      "Epoch 39/1000\n",
      "944/944 [==============================] - 1s 2ms/step - loss: 0.0026 - val_loss: 0.0027\n",
      "Epoch 40/1000\n",
      "944/944 [==============================] - 1s 2ms/step - loss: 0.0025 - val_loss: 0.0028\n",
      "Epoch 41/1000\n",
      "944/944 [==============================] - 1s 2ms/step - loss: 0.0025 - val_loss: 0.0028\n",
      "Epoch 42/1000\n",
      "944/944 [==============================] - 1s 2ms/step - loss: 0.0025 - val_loss: 0.0031\n",
      "Epoch 43/1000\n",
      "944/944 [==============================] - 1s 2ms/step - loss: 0.0024 - val_loss: 0.0028\n",
      "Epoch 44/1000\n",
      "944/944 [==============================] - 1s 2ms/step - loss: 0.0025 - val_loss: 0.0032\n",
      "Epoch 45/1000\n",
      "944/944 [==============================] - 1s 2ms/step - loss: 0.0025 - val_loss: 0.0029\n",
      "Epoch 46/1000\n",
      "944/944 [==============================] - 1s 2ms/step - loss: 0.0025 - val_loss: 0.0029\n",
      "Epoch 47/1000\n",
      "944/944 [==============================] - 1s 2ms/step - loss: 0.0024 - val_loss: 0.0028\n",
      "Epoch 48/1000\n",
      "944/944 [==============================] - 1s 2ms/step - loss: 0.0024 - val_loss: 0.0030\n",
      "Epoch 49/1000\n",
      "944/944 [==============================] - 1s 2ms/step - loss: 0.0025 - val_loss: 0.0029\n",
      "Epoch 50/1000\n",
      "944/944 [==============================] - 1s 2ms/step - loss: 0.0024 - val_loss: 0.0029\n",
      "Epoch 51/1000\n",
      "944/944 [==============================] - 1s 2ms/step - loss: 0.0025 - val_loss: 0.0029\n",
      "Epoch 52/1000\n",
      "944/944 [==============================] - 1s 2ms/step - loss: 0.0025 - val_loss: 0.0028\n",
      "Epoch 53/1000\n",
      "944/944 [==============================] - 1s 2ms/step - loss: 0.0024 - val_loss: 0.0031\n",
      "Epoch 54/1000\n",
      "944/944 [==============================] - 1s 2ms/step - loss: 0.0025 - val_loss: 0.0036\n"
     ]
    }
   ],
   "source": [
    "history = DNN.fit(X_train_norm, y_train_norm, epochs=epochs, verbose=1, batch_size=batch_size, validation_data=(X_val_norm, y_val_norm), callbacks=[early_stop])"
   ]
  },
  {
   "cell_type": "code",
   "execution_count": 217,
   "metadata": {},
   "outputs": [
    {
     "data": {
      "image/png": "[encoded data removed]",
      "text/plain": [
       "<Figure size 1000x600 with 1 Axes>"
      ]
     },
     "metadata": {},
     "output_type": "display_data"
    }
   ],
   "source": [
    "import matplotlib.pyplot as plt\n",
    "\n",
    "# Extract the training and validation loss from the history object\n",
    "train_loss = history.history['loss']\n",
    "val_loss = history.history['val_loss']\n",
    "\n",
    "# Plot the learning curve\n",
    "plt.figure(figsize=(10, 6))\n",
    "plt.plot(train_loss, label='Training Loss', color='blue')\n",
    "plt.plot(val_loss, label='Validation Loss', color='red')\n",
    "plt.title('Learning Curve')\n",
    "plt.xlabel('Epochs')\n",
    "plt.ylabel('Loss')\n",
    "plt.legend()\n",
    "plt.grid(True)\n",
    "plt.show()"
   ]
  },
  {
   "cell_type": "code",
   "execution_count": 218,
   "metadata": {},
   "outputs": [
    {
     "name": "stdout",
     "output_type": "stream",
     "text": [
      "295/295 [==============================] - 0s 665us/step - loss: 0.0025\n",
      "Test Loss: 0.002508885692805052\n"
     ]
    }
   ],
   "source": [
    "loss = DNN.evaluate(X_test_norm, y_test_norm)\n",
    "print(\"Test Loss:\", loss)"
   ]
  },
  {
   "cell_type": "code",
   "execution_count": 219,
   "metadata": {},
   "outputs": [
    {
     "name": "stdout",
     "output_type": "stream",
     "text": [
      "295/295 [==============================] - 0s 619us/step\n",
      "Mean Absolute Error: 117653.40770511125\n",
      "Mean Squared Error: 48572007430.594666\n",
      "Root Mean Squared Error: 220390.5792691572\n",
      "R-squared: 0.7839631367005397\n"
     ]
    }
   ],
   "source": [
    "from sklearn.metrics import mean_absolute_error, mean_squared_error, r2_score\n",
    "\n",
    "y_pred = y_scaler.inverse_transform(DNN.predict(X_test_norm))\n",
    "mae = mean_absolute_error(y_test, y_pred)\n",
    "mse = mean_squared_error(y_test, y_pred)\n",
    "rmse = mean_squared_error(y_test, y_pred, squared=False)\n",
    "r2 = r2_score(y_test, y_pred)\n",
    "\n",
    "print(\"Mean Absolute Error:\", mae)\n",
    "print(\"Mean Squared Error:\", mse)\n",
    "print(\"Root Mean Squared Error:\", rmse)\n",
    "print(\"R-squared:\", r2)"
   ]
  },
  {
   "cell_type": "code",
   "execution_count": 220,
   "metadata": {},
   "outputs": [
    {
     "name": "stdout",
     "output_type": "stream",
     "text": [
      "295/295 [==============================] - 0s 619us/step\n",
      "Example:\n",
      "Expected Prices: 160000.0, 250000.0, 409000.0, 525000.0, 1948000.0\n",
      "Predicted Prices: 130439.91 330385.94 600593.75 331553.0 1683074.9\n"
     ]
    }
   ],
   "source": [
    "predictions = DNN.predict(X_test_norm)\n",
    "predictions = y_scaler.inverse_transform(predictions)\n",
    "\n",
    "\n",
    "print(\"Example:\")\n",
    "print(\"Expected Prices:\", \", \".join(str(expected) for expected in y_test.iloc[:5]))\n",
    "print(\"Predicted Prices:\", \" \".join(str(predicted) for predicted in predictions[:5, 0]))"
   ]
  }
 ],
 "metadata": {
  "kernelspec": {
   "display_name": "Python 3.8.6 64-bit",
   "language": "python",
   "name": "python3"
  },
  "language_info": {
   "codemirror_mode": {
    "name": "ipython",
    "version": 3
   },
   "file_extension": ".py",
   "mimetype": "text/x-python",
   "name": "python",
   "nbconvert_exporter": "python",
   "pygments_lexer": "ipython3",
   "version": "3.8.6"
  },
  "orig_nbformat": 4,
  "vscode": {
   "interpreter": {
    "hash": "06e09188ad4cb5fbad9645030cf25c93fafa7ada9debbe1a566fc3b76c1d60a5"
   }
  }
 },
 "nbformat": 4,
 "nbformat_minor": 2
}
