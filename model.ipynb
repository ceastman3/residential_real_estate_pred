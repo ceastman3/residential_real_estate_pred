{
 "cells": [
  {
   "cell_type": "code",
   "execution_count": 1065,
   "metadata": {},
   "outputs": [],
   "source": [
    "import tensorflow as tf\n",
    "import pandas as pd\n",
    "import numpy as np\n",
    "from sklearn.model_selection import train_test_split\n",
    "from sklearn.preprocessing import LabelEncoder, StandardScaler\n",
    "from sklearn.impute import KNNImputer\n",
    "import matplotlib.pyplot as plt"
   ]
  },
  {
   "cell_type": "markdown",
   "metadata": {},
   "source": [
    "0. Set Hyperparamters"
   ]
  },
  {
   "cell_type": "code",
   "execution_count": 1224,
   "metadata": {},
   "outputs": [],
   "source": [
    "train_ratio = 0.8\n",
    "validation_ratio = 0.2\n",
    "epochs = 1000\n",
    "batch_size = 1024"
   ]
  },
  {
   "cell_type": "markdown",
   "metadata": {},
   "source": [
    "1. Import Data"
   ]
  },
  {
   "cell_type": "code",
   "execution_count": 1236,
   "metadata": {},
   "outputs": [],
   "source": [
    "# 1. Import data\n",
    "NY_data = pd.read_csv(\"data/NY_data.csv\")\n",
    "\n",
    "# 2. Split data into x and y values\n",
    "y = NY_data['price']\n",
    "X = NY_data.drop(columns=['price'])\n",
    "\n",
    "# 3. Split data into Train vs. Test\n",
    "X_train, X_test, y_train, y_test = train_test_split(X, y, train_size=train_ratio, random_state=42, shuffle=True)\n",
    "X_train, X_val, y_train, y_val = train_test_split(X_train, y_train, test_size=validation_ratio, random_state=42)\n",
    "\n",
    "# 4. Normalize data\n",
    "X_scaler = StandardScaler()\n",
    "y_scaler = StandardScaler()\n",
    "\n",
    "X_train_norm = X_scaler.fit_transform(X_train)\n",
    "X_val_norm = X_scaler.transform(X_val)\n",
    "X_test_norm = X_scaler.transform(X_test)\n",
    "\n",
    "y_train_norm = y_scaler.fit_transform(y_train.values.reshape(-1, 1))\n",
    "y_val_norm = y_scaler.transform(y_val.values.reshape(-1, 1))\n",
    "y_test_norm = y_scaler.transform(y_test.values.reshape(-1, 1))"
   ]
  },
  {
   "cell_type": "code",
   "execution_count": 1237,
   "metadata": {},
   "outputs": [],
   "source": [
    "DNN = tf.keras.models.Sequential([\n",
    "    tf.keras.layers.Dense(6, input_dim=X.shape[1], activation='relu'),\n",
    "    tf.keras.layers.BatchNormalization(),\n",
    "    tf.keras.layers.Dense(512, activation='relu', kernel_regularizer=tf.keras.regularizers.l2(0.005)),\n",
    "    tf.keras.layers.BatchNormalization(),\n",
    "    tf.keras.layers.Dense(512, activation='relu', kernel_regularizer=tf.keras.regularizers.l2(0.005)),\n",
    "    tf.keras.layers.Dense(1)\n",
    "])\n",
    "\n",
    "early_stop = tf.keras.callbacks.EarlyStopping(patience=5, restore_best_weights=True)\n",
    "\n",
    "DNN.compile(loss='mse', optimizer='adam')"
   ]
  },
  {
   "cell_type": "markdown",
   "metadata": {},
   "source": [
    "2. Model Initilization"
   ]
  },
  {
   "cell_type": "code",
   "execution_count": 1238,
   "metadata": {},
   "outputs": [
    {
     "name": "stdout",
     "output_type": "stream",
     "text": [
      "Epoch 1/1000\n",
      "32/32 [==============================] - 1s 18ms/step - loss: 3.8318 - val_loss: 3.2011\n",
      "Epoch 2/1000\n",
      "32/32 [==============================] - 0s 15ms/step - loss: 3.0562 - val_loss: 2.9795\n",
      "Epoch 3/1000\n",
      "32/32 [==============================] - 0s 15ms/step - loss: 2.8121 - val_loss: 2.7758\n",
      "Epoch 4/1000\n",
      "32/32 [==============================] - 1s 16ms/step - loss: 2.5936 - val_loss: 2.5341\n",
      "Epoch 5/1000\n",
      "32/32 [==============================] - 0s 15ms/step - loss: 2.4247 - val_loss: 2.3781\n",
      "Epoch 6/1000\n",
      "32/32 [==============================] - 0s 15ms/step - loss: 2.2397 - val_loss: 2.1794\n",
      "Epoch 7/1000\n",
      "32/32 [==============================] - 0s 15ms/step - loss: 2.0918 - val_loss: 2.0551\n",
      "Epoch 8/1000\n",
      "32/32 [==============================] - 0s 15ms/step - loss: 2.0190 - val_loss: 1.9531\n",
      "Epoch 9/1000\n",
      "32/32 [==============================] - 0s 15ms/step - loss: 1.8432 - val_loss: 1.8484\n",
      "Epoch 10/1000\n",
      "32/32 [==============================] - 1s 16ms/step - loss: 1.7780 - val_loss: 1.7071\n",
      "Epoch 11/1000\n",
      "32/32 [==============================] - 0s 15ms/step - loss: 1.6540 - val_loss: 1.6303\n",
      "Epoch 12/1000\n",
      "32/32 [==============================] - 1s 16ms/step - loss: 1.5394 - val_loss: 1.4519\n",
      "Epoch 13/1000\n",
      "32/32 [==============================] - 0s 15ms/step - loss: 1.4568 - val_loss: 1.3707\n",
      "Epoch 14/1000\n",
      "32/32 [==============================] - 0s 15ms/step - loss: 1.3978 - val_loss: 1.3297\n",
      "Epoch 15/1000\n",
      "32/32 [==============================] - 0s 15ms/step - loss: 1.3754 - val_loss: 1.2896\n",
      "Epoch 16/1000\n",
      "32/32 [==============================] - 0s 15ms/step - loss: 1.2927 - val_loss: 1.2156\n",
      "Epoch 17/1000\n",
      "32/32 [==============================] - 0s 15ms/step - loss: 1.1993 - val_loss: 1.0219\n",
      "Epoch 18/1000\n",
      "32/32 [==============================] - 0s 15ms/step - loss: 1.1565 - val_loss: 1.0351\n",
      "Epoch 19/1000\n",
      "32/32 [==============================] - 0s 15ms/step - loss: 1.1178 - val_loss: 0.9341\n",
      "Epoch 20/1000\n",
      "32/32 [==============================] - 0s 15ms/step - loss: 1.0725 - val_loss: 0.8783\n",
      "Epoch 21/1000\n",
      "32/32 [==============================] - 0s 15ms/step - loss: 1.0368 - val_loss: 0.8865\n",
      "Epoch 22/1000\n",
      "32/32 [==============================] - 0s 15ms/step - loss: 1.0058 - val_loss: 0.8197\n",
      "Epoch 23/1000\n",
      "32/32 [==============================] - 0s 15ms/step - loss: 0.9712 - val_loss: 0.7889\n",
      "Epoch 24/1000\n",
      "32/32 [==============================] - 0s 15ms/step - loss: 0.9405 - val_loss: 0.8271\n",
      "Epoch 25/1000\n",
      "32/32 [==============================] - 0s 15ms/step - loss: 0.9197 - val_loss: 0.7193\n",
      "Epoch 26/1000\n",
      "32/32 [==============================] - 0s 15ms/step - loss: 0.9098 - val_loss: 0.7282\n",
      "Epoch 27/1000\n",
      "32/32 [==============================] - 0s 15ms/step - loss: 0.8847 - val_loss: 0.7714\n",
      "Epoch 28/1000\n",
      "32/32 [==============================] - 0s 15ms/step - loss: 0.8602 - val_loss: 0.7003\n",
      "Epoch 29/1000\n",
      "32/32 [==============================] - 0s 15ms/step - loss: 0.8398 - val_loss: 0.6648\n",
      "Epoch 30/1000\n",
      "32/32 [==============================] - 0s 15ms/step - loss: 0.8335 - val_loss: 0.6426\n",
      "Epoch 31/1000\n",
      "32/32 [==============================] - 0s 15ms/step - loss: 0.8220 - val_loss: 0.6167\n",
      "Epoch 32/1000\n",
      "32/32 [==============================] - 0s 15ms/step - loss: 0.7943 - val_loss: 0.6160\n",
      "Epoch 33/1000\n",
      "32/32 [==============================] - 0s 15ms/step - loss: 0.7918 - val_loss: 0.7682\n",
      "Epoch 34/1000\n",
      "32/32 [==============================] - 0s 15ms/step - loss: 0.7711 - val_loss: 0.6110\n",
      "Epoch 35/1000\n",
      "32/32 [==============================] - 0s 15ms/step - loss: 0.7732 - val_loss: 0.6134\n",
      "Epoch 36/1000\n",
      "32/32 [==============================] - 0s 15ms/step - loss: 0.7409 - val_loss: 0.5517\n",
      "Epoch 37/1000\n",
      "32/32 [==============================] - 0s 15ms/step - loss: 0.7259 - val_loss: 0.5722\n",
      "Epoch 38/1000\n",
      "32/32 [==============================] - 1s 16ms/step - loss: 0.7537 - val_loss: 0.5420\n",
      "Epoch 39/1000\n",
      "32/32 [==============================] - 0s 15ms/step - loss: 0.7309 - val_loss: 0.6060\n",
      "Epoch 40/1000\n",
      "32/32 [==============================] - 0s 15ms/step - loss: 0.7281 - val_loss: 0.6762\n",
      "Epoch 41/1000\n",
      "32/32 [==============================] - 0s 15ms/step - loss: 0.7353 - val_loss: 0.6385\n",
      "Epoch 42/1000\n",
      "32/32 [==============================] - 0s 15ms/step - loss: 0.7221 - val_loss: 0.5764\n",
      "Epoch 43/1000\n",
      "32/32 [==============================] - 0s 15ms/step - loss: 0.7000 - val_loss: 0.5271\n",
      "Epoch 44/1000\n",
      "32/32 [==============================] - 0s 15ms/step - loss: 0.6901 - val_loss: 0.5145\n",
      "Epoch 45/1000\n",
      "32/32 [==============================] - 0s 15ms/step - loss: 0.7067 - val_loss: 0.5253\n",
      "Epoch 46/1000\n",
      "32/32 [==============================] - 0s 15ms/step - loss: 0.7024 - val_loss: 0.5088\n",
      "Epoch 47/1000\n",
      "32/32 [==============================] - 0s 15ms/step - loss: 0.7007 - val_loss: 0.6354\n",
      "Epoch 48/1000\n",
      "32/32 [==============================] - 0s 15ms/step - loss: 0.6925 - val_loss: 0.5080\n",
      "Epoch 49/1000\n",
      "32/32 [==============================] - 0s 15ms/step - loss: 0.6715 - val_loss: 0.5213\n",
      "Epoch 50/1000\n",
      "32/32 [==============================] - 0s 15ms/step - loss: 0.6856 - val_loss: 0.5173\n",
      "Epoch 51/1000\n",
      "32/32 [==============================] - 0s 15ms/step - loss: 0.6520 - val_loss: 0.5022\n",
      "Epoch 52/1000\n",
      "32/32 [==============================] - 0s 15ms/step - loss: 0.6786 - val_loss: 0.4775\n",
      "Epoch 53/1000\n",
      "32/32 [==============================] - 0s 15ms/step - loss: 0.6568 - val_loss: 0.5232\n",
      "Epoch 54/1000\n",
      "32/32 [==============================] - 0s 16ms/step - loss: 0.6663 - val_loss: 0.5202\n",
      "Epoch 55/1000\n",
      "32/32 [==============================] - 0s 15ms/step - loss: 0.6751 - val_loss: 0.5080\n",
      "Epoch 56/1000\n",
      "32/32 [==============================] - 0s 15ms/step - loss: 0.6635 - val_loss: 0.5014\n",
      "Epoch 57/1000\n",
      "32/32 [==============================] - 0s 15ms/step - loss: 0.6600 - val_loss: 0.5606\n"
     ]
    }
   ],
   "source": [
    "history = DNN.fit(X_train_norm, y_train_norm, epochs=epochs, verbose=1, batch_size=batch_size, validation_data=(X_val_norm, y_val_norm), callbacks=[early_stop])"
   ]
  },
  {
   "cell_type": "code",
   "execution_count": 1239,
   "metadata": {},
   "outputs": [
    {
     "data": {
      "image/png": "[encoded data removed]",
      "text/plain": [
       "<Figure size 1000x600 with 1 Axes>"
      ]
     },
     "metadata": {},
     "output_type": "display_data"
    }
   ],
   "source": [
    "import matplotlib.pyplot as plt\n",
    "\n",
    "# Extract the training and validation loss from the history object\n",
    "train_loss = history.history['loss']\n",
    "val_loss = history.history['val_loss']\n",
    "\n",
    "# Plot the learning curve\n",
    "plt.figure(figsize=(10, 6))\n",
    "plt.plot(train_loss, label='Training Loss', color='blue')\n",
    "plt.plot(val_loss, label='Validation Loss', color='red')\n",
    "plt.title('Learning Curve')\n",
    "plt.xlabel('Epochs')\n",
    "plt.ylabel('Loss')\n",
    "plt.legend()\n",
    "plt.grid(True)\n",
    "plt.show()"
   ]
  },
  {
   "cell_type": "code",
   "execution_count": 1240,
   "metadata": {},
   "outputs": [
    {
     "name": "stdout",
     "output_type": "stream",
     "text": [
      "318/318 [==============================] - 0s 974us/step - loss: 0.5224\n",
      "Test Loss: 0.5223929286003113\n"
     ]
    }
   ],
   "source": [
    "loss = DNN.evaluate(X_test_norm, y_test_norm)\n",
    "print(\"Test Loss:\", loss)"
   ]
  },
  {
   "cell_type": "code",
   "execution_count": 1241,
   "metadata": {},
   "outputs": [
    {
     "name": "stdout",
     "output_type": "stream",
     "text": [
      "318/318 [==============================] - 0s 909us/step\n",
      "Mean Absolute Error: 345233.0271748165\n",
      "Mean Squared Error: 1721843095169.8875\n",
      "Root Mean Squared Error: 1312190.1901667637\n",
      "R-squared: 0.4396353123076999\n"
     ]
    }
   ],
   "source": [
    "from sklearn.metrics import mean_absolute_error, mean_squared_error, r2_score\n",
    "\n",
    "y_pred = y_scaler.inverse_transform(DNN.predict(X_test_norm))\n",
    "mae = mean_absolute_error(y_test, y_pred)\n",
    "mse = mean_squared_error(y_test, y_pred)\n",
    "rmse = mean_squared_error(y_test, y_pred, squared=False)\n",
    "r2 = r2_score(y_test, y_pred)\n",
    "\n",
    "print(\"Mean Absolute Error:\", mae)\n",
    "print(\"Mean Squared Error:\", mse)\n",
    "print(\"Root Mean Squared Error:\", rmse)\n",
    "print(\"R-squared:\", r2)"
   ]
  },
  {
   "cell_type": "code",
   "execution_count": 1248,
   "metadata": {},
   "outputs": [
    {
     "name": "stdout",
     "output_type": "stream",
     "text": [
      "318/318 [==============================] - 0s 1ms/step\n",
      "Expected Prices: 119900.0, 449999.0, 549999.0, 449000.0, 250000.0\n",
      "Predicted Prices: 277786.16 732700.9 734712.1 531304.4 604993.56\n"
     ]
    }
   ],
   "source": [
    "predictions = DNN.predict(X_test_norm)\n",
    "predictions = y_scaler.inverse_transform(predictions)\n",
    "print(\"Expected Prices:\", \", \".join(str(expected) for expected in y_test.iloc[:5]))\n",
    "print(\"Predicted Prices:\", \" \".join(str(predicted) for predicted in predictions[:5, 0]))"
   ]
  }
 ],
 "metadata": {
  "kernelspec": {
   "display_name": "Python 3.8.6 64-bit",
   "language": "python",
   "name": "python3"
  },
  "language_info": {
   "codemirror_mode": {
    "name": "ipython",
    "version": 3
   },
   "file_extension": ".py",
   "mimetype": "text/x-python",
   "name": "python",
   "nbconvert_exporter": "python",
   "pygments_lexer": "ipython3",
   "version": "3.8.6"
  },
  "orig_nbformat": 4,
  "vscode": {
   "interpreter": {
    "hash": "06e09188ad4cb5fbad9645030cf25c93fafa7ada9debbe1a566fc3b76c1d60a5"
   }
  }
 },
 "nbformat": 4,
 "nbformat_minor": 2
}
