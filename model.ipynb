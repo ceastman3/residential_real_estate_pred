{
 "cells": [
  {
   "cell_type": "code",
   "execution_count": 69,
   "metadata": {},
   "outputs": [],
   "source": [
    "import tensorflow as tf\n",
    "import pandas as pd\n",
    "import numpy as np\n",
    "from sklearn.model_selection import train_test_split\n",
    "from sklearn.preprocessing import StandardScaler\n",
    "import seaborn as sn\n",
    "import matplotlib.pyplot as plt\n",
    "\n",
    "# Whenever example code refers to \"net\", assume its meant to be \"DNN\""
   ]
  },
  {
   "cell_type": "markdown",
   "metadata": {},
   "source": [
    "0. Set Hyperparamters"
   ]
  },
  {
   "cell_type": "code",
   "execution_count": 70,
   "metadata": {},
   "outputs": [],
   "source": [
    "train_ratio = 0.7     # This is a placeholder Value\n",
    "validation_ratio = 0.5\n",
    "epochs = 10\n",
    "batch_size = 10"
   ]
  },
  {
   "cell_type": "markdown",
   "metadata": {},
   "source": [
    "1. Import Data"
   ]
  },
  {
   "cell_type": "code",
   "execution_count": 71,
   "metadata": {},
   "outputs": [],
   "source": [
    "# 1. Import data\n",
    "NY_data = pd.read_csv(\"data/NY_data_ints.csv\")\n",
    "\n",
    "# 2. Split data into x and y values\n",
    "y = NY_data.iloc[:, 0]\n",
    "X = NY_data.iloc[:, 1:]\n",
    "\n",
    "scaler = StandardScaler()\n",
    "X_scaled = scaler.fit_transform(X)\n",
    "\n",
    "# 3. Split data into Train vs. Test\n",
    "X_train, X_test, y_train, y_test = train_test_split(X_scaled, y, train_size=train_ratio, random_state=42, shuffle=True)\n",
    "X_test, X_val, y_test, y_val = train_test_split(X_test, y_test, test_size=validation_ratio, random_state=42, shuffle=True)"
   ]
  },
  {
   "cell_type": "code",
   "execution_count": 76,
   "metadata": {},
   "outputs": [],
   "source": [
    "# build  (TODO: need to figure out sizing)\n",
    "DNN = tf.keras.models.Sequential([\n",
    "    tf.keras.layers.Dense(6, input_dim=X.shape[1], activation = 'relu'),\n",
    "    tf.keras.layers.Dense(32, activation = 'relu'),\n",
    "    # tf.keras.layers.Dense(12, activation = 'relu'),\n",
    "    # tf.keras.layers.Dense(18, activation = 'relu'),\n",
    "    # tf.keras.layers.Dense(24, activation = 'relu'),\n",
    "    # tf.keras.layers.Dense(30, activation = 'relu'),\n",
    "    # tf.keras.layers.Dense(46, activation = 'relu'),\n",
    "    # tf.keras.layers.Dense(52, activation = 'relu'),\n",
    "    tf.keras.layers.Dense(1, activation='sigmoid')\n",
    "    ])\n",
    "\n",
    "callback = tf.keras.callbacks.EarlyStopping(monitor='val_loss', patience=3)\n",
    "\n",
    "## TODO: Need to check method of compiling\n",
    "DNN.compile(loss='mse', optimizer='adam',\n",
    "              metrics=['accuracy'])"
   ]
  },
  {
   "cell_type": "markdown",
   "metadata": {},
   "source": [
    "2. Model Initilization"
   ]
  },
  {
   "cell_type": "code",
   "execution_count": 77,
   "metadata": {},
   "outputs": [
    {
     "name": "stdout",
     "output_type": "stream",
     "text": [
      "Epoch 1/10\n",
      "\u001b[1m3553/3553\u001b[0m \u001b[32m━━━━━━━━━━━━━━━━━━━━\u001b[0m\u001b[37m\u001b[0m \u001b[1m1s\u001b[0m 311us/step - accuracy: 2.0869e-05 - loss: 3697670094848.0000 - val_accuracy: 0.0000e+00 - val_loss: 3152773120000.0000\n",
      "Epoch 2/10\n",
      "\u001b[1m3553/3553\u001b[0m \u001b[32m━━━━━━━━━━━━━━━━━━━━\u001b[0m\u001b[37m\u001b[0m \u001b[1m1s\u001b[0m 285us/step - accuracy: 7.6685e-05 - loss: 3113477734400.0000 - val_accuracy: 0.0000e+00 - val_loss: 3152773120000.0000\n",
      "Epoch 3/10\n",
      "\u001b[1m3553/3553\u001b[0m \u001b[32m━━━━━━━━━━━━━━━━━━━━\u001b[0m\u001b[37m\u001b[0m \u001b[1m1s\u001b[0m 287us/step - accuracy: 1.6726e-04 - loss: 4146246975488.0000 - val_accuracy: 0.0000e+00 - val_loss: 3152773120000.0000\n",
      "Epoch 4/10\n",
      "\u001b[1m3553/3553\u001b[0m \u001b[32m━━━━━━━━━━━━━━━━━━━━\u001b[0m\u001b[37m\u001b[0m \u001b[1m1s\u001b[0m 290us/step - accuracy: 9.7948e-05 - loss: 3809801142272.0000 - val_accuracy: 0.0000e+00 - val_loss: 3152773120000.0000\n",
      "Epoch 5/10\n",
      "\u001b[1m3553/3553\u001b[0m \u001b[32m━━━━━━━━━━━━━━━━━━━━\u001b[0m\u001b[37m\u001b[0m \u001b[1m1s\u001b[0m 284us/step - accuracy: 2.8172e-05 - loss: 3510210134016.0000 - val_accuracy: 0.0000e+00 - val_loss: 3152773120000.0000\n",
      "Epoch 6/10\n",
      "\u001b[1m3553/3553\u001b[0m \u001b[32m━━━━━━━━━━━━━━━━━━━━\u001b[0m\u001b[37m\u001b[0m \u001b[1m1s\u001b[0m 284us/step - accuracy: 1.5059e-04 - loss: 4169564946432.0000 - val_accuracy: 0.0000e+00 - val_loss: 3152773120000.0000\n",
      "Epoch 7/10\n",
      "\u001b[1m3553/3553\u001b[0m \u001b[32m━━━━━━━━━━━━━━━━━━━━\u001b[0m\u001b[37m\u001b[0m \u001b[1m1s\u001b[0m 285us/step - accuracy: 5.8843e-05 - loss: 3524916412416.0000 - val_accuracy: 0.0000e+00 - val_loss: 3152773120000.0000\n",
      "Epoch 8/10\n",
      "\u001b[1m3553/3553\u001b[0m \u001b[32m━━━━━━━━━━━━━━━━━━━━\u001b[0m\u001b[37m\u001b[0m \u001b[1m1s\u001b[0m 300us/step - accuracy: 1.1159e-04 - loss: 3227169587200.0000 - val_accuracy: 0.0000e+00 - val_loss: 3152773120000.0000\n",
      "Epoch 9/10\n",
      "\u001b[1m3553/3553\u001b[0m \u001b[32m━━━━━━━━━━━━━━━━━━━━\u001b[0m\u001b[37m\u001b[0m \u001b[1m1s\u001b[0m 284us/step - accuracy: 1.0226e-04 - loss: 5677544636416.0000 - val_accuracy: 0.0000e+00 - val_loss: 3152773120000.0000\n",
      "Epoch 10/10\n",
      "\u001b[1m3553/3553\u001b[0m \u001b[32m━━━━━━━━━━━━━━━━━━━━\u001b[0m\u001b[37m\u001b[0m \u001b[1m1s\u001b[0m 285us/step - accuracy: 6.4483e-05 - loss: 3306493837312.0000 - val_accuracy: 0.0000e+00 - val_loss: 3152773120000.0000\n"
     ]
    }
   ],
   "source": [
    "# TODO: Need to setup validation sets\n",
    "# X_train_tf = tf.convert_to_tensor(X_train, dtype=tf.float32)\n",
    "# y_train_tf = tf.convert_to_tensor(y_train, dtype=tf.float32)\n",
    "# X_val_tf = tf.convert_to_tensor(X_val, dtype=tf.float32)\n",
    "# y_val_tf = tf.convert_to_tensor(y_val, dtype=tf.float32)\n",
    "\n",
    "history = DNN.fit(X_train, y_train, epochs=10, verbose=1, batch_size=batch_size, validation_data=(X_val,y_val))# "
   ]
  }
 ],
 "metadata": {
  "kernelspec": {
   "display_name": "Python 3.8.6 64-bit",
   "language": "python",
   "name": "python3"
  },
  "language_info": {
   "codemirror_mode": {
    "name": "ipython",
    "version": 3
   },
   "file_extension": ".py",
   "mimetype": "text/x-python",
   "name": "python",
   "nbconvert_exporter": "python",
   "pygments_lexer": "ipython3",
   "version": "3.12.0"
  },
  "orig_nbformat": 4,
  "vscode": {
   "interpreter": {
    "hash": "06e09188ad4cb5fbad9645030cf25c93fafa7ada9debbe1a566fc3b76c1d60a5"
   }
  }
 },
 "nbformat": 4,
 "nbformat_minor": 2
}
