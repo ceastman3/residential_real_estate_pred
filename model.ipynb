{
 "cells": [
  {
   "cell_type": "code",
   "execution_count": 377,
   "metadata": {},
   "outputs": [],
   "source": [
    "import tensorflow as tf\n",
    "import pandas as pd\n",
    "import numpy as np\n",
    "from sklearn.model_selection import train_test_split\n",
    "import matplotlib.pyplot as plt"
   ]
  },
  {
   "cell_type": "markdown",
   "metadata": {},
   "source": [
    "0. Set Hyperparamters"
   ]
  },
  {
   "cell_type": "code",
   "execution_count": 385,
   "metadata": {},
   "outputs": [],
   "source": [
    "train_ratio = 0.8\n",
    "validation_ratio = 0.2\n",
    "epochs = 200\n",
    "batch_size = 512"
   ]
  },
  {
   "cell_type": "markdown",
   "metadata": {},
   "source": [
    "1. Import Data"
   ]
  },
  {
   "cell_type": "code",
   "execution_count": 386,
   "metadata": {},
   "outputs": [],
   "source": [
    "# 1. Import data\n",
    "NY_data = pd.read_csv(\"data/NY_data.csv\")\n",
    "\n",
    "# 2. Split data into x and y values\n",
    "y = NY_data['price']\n",
    "X = NY_data.drop(columns=['price'])\n",
    "\n",
    "# 4. Split data into Train vs. Test\n",
    "X_train, X_test, y_train, y_test = train_test_split(X, y, train_size=train_ratio, random_state=42)\n",
    "X_train, X_val, y_train, y_val = train_test_split(X_train, y_train, test_size=validation_ratio, random_state=42)"
   ]
  },
  {
   "cell_type": "code",
   "execution_count": 387,
   "metadata": {},
   "outputs": [],
   "source": [
    "DNN = tf.keras.models.Sequential([\n",
    "    tf.keras.layers.Dense(5, input_dim=X.shape[1], activation='relu'),\n",
    "    tf.keras.layers.BatchNormalization(),\n",
    "    tf.keras.layers.Dense(128, activation='relu', kernel_regularizer=tf.keras.regularizers.l2()),\n",
    "    tf.keras.layers.BatchNormalization(),\n",
    "    tf.keras.layers.Dense(128, activation='relu', kernel_regularizer=tf.keras.regularizers.l2()),\n",
    "    tf.keras.layers.BatchNormalization(),\n",
    "    tf.keras.layers.Dense(128, activation='relu'),\n",
    "    tf.keras.layers.Dense(1)\n",
    "])\n",
    "\n",
    "early_stop = tf.keras.callbacks.EarlyStopping(patience=10, restore_best_weights=True)\n",
    "\n",
    "DNN.compile(loss='mse', optimizer='adam')"
   ]
  },
  {
   "cell_type": "markdown",
   "metadata": {},
   "source": [
    "2. Model Initilization"
   ]
  },
  {
   "cell_type": "code",
   "execution_count": 388,
   "metadata": {},
   "outputs": [
    {
     "name": "stdout",
     "output_type": "stream",
     "text": [
      "Epoch 1/200\n",
      "64/64 [==============================] - 1s 5ms/step - loss: 4137063022592.0000 - val_loss: 3730411094016.0000\n",
      "Epoch 2/200\n",
      "64/64 [==============================] - 0s 4ms/step - loss: 4136684748800.0000 - val_loss: 3730378063872.0000\n",
      "Epoch 3/200\n",
      "64/64 [==============================] - 0s 4ms/step - loss: 4135644561408.0000 - val_loss: 3730262720512.0000\n",
      "Epoch 4/200\n",
      "64/64 [==============================] - 0s 4ms/step - loss: 4133697355776.0000 - val_loss: 3729736335360.0000\n",
      "Epoch 5/200\n",
      "64/64 [==============================] - 0s 4ms/step - loss: 4130422652928.0000 - val_loss: 3728566386688.0000\n",
      "Epoch 6/200\n",
      "64/64 [==============================] - 0s 4ms/step - loss: 4125768810496.0000 - val_loss: 3726283374592.0000\n",
      "Epoch 7/200\n",
      "64/64 [==============================] - 0s 4ms/step - loss: 4118609657856.0000 - val_loss: 3720677687296.0000\n",
      "Epoch 8/200\n",
      "64/64 [==============================] - 0s 4ms/step - loss: 4109511426048.0000 - val_loss: 3717330632704.0000\n",
      "Epoch 9/200\n",
      "64/64 [==============================] - 0s 4ms/step - loss: 4097526202368.0000 - val_loss: 3703748165632.0000\n",
      "Epoch 10/200\n",
      "64/64 [==============================] - 0s 4ms/step - loss: 4083712262144.0000 - val_loss: 3682893037568.0000\n",
      "Epoch 11/200\n",
      "64/64 [==============================] - 0s 4ms/step - loss: 4066557558784.0000 - val_loss: 3667361005568.0000\n",
      "Epoch 12/200\n",
      "64/64 [==============================] - 0s 4ms/step - loss: 4045862076416.0000 - val_loss: 3654070304768.0000\n",
      "Epoch 13/200\n",
      "64/64 [==============================] - 0s 4ms/step - loss: 4021736177664.0000 - val_loss: 3647641223168.0000\n",
      "Epoch 14/200\n",
      "64/64 [==============================] - 0s 4ms/step - loss: 3994711752704.0000 - val_loss: 3595739332608.0000\n",
      "Epoch 15/200\n",
      "64/64 [==============================] - 0s 4ms/step - loss: 3965166813184.0000 - val_loss: 3550304796672.0000\n",
      "Epoch 16/200\n",
      "64/64 [==============================] - 0s 4ms/step - loss: 3922741690368.0000 - val_loss: 3531738710016.0000\n",
      "Epoch 17/200\n",
      "64/64 [==============================] - 0s 4ms/step - loss: 3884421218304.0000 - val_loss: 3440661757952.0000\n",
      "Epoch 18/200\n",
      "64/64 [==============================] - 0s 4ms/step - loss: 3849130082304.0000 - val_loss: 3386418397184.0000\n",
      "Epoch 19/200\n",
      "64/64 [==============================] - 0s 4ms/step - loss: 3799801921536.0000 - val_loss: 3399025688576.0000\n",
      "Epoch 20/200\n",
      "64/64 [==============================] - 0s 4ms/step - loss: 3751349059584.0000 - val_loss: 3302597066752.0000\n",
      "Epoch 21/200\n",
      "64/64 [==============================] - 0s 4ms/step - loss: 3696196583424.0000 - val_loss: 3389653254144.0000\n",
      "Epoch 22/200\n",
      "64/64 [==============================] - 0s 4ms/step - loss: 3645737271296.0000 - val_loss: 3159976837120.0000\n",
      "Epoch 23/200\n",
      "64/64 [==============================] - 0s 4ms/step - loss: 3582245208064.0000 - val_loss: 3266472050688.0000\n",
      "Epoch 24/200\n",
      "64/64 [==============================] - 0s 4ms/step - loss: 3530002530304.0000 - val_loss: 3168446185472.0000\n",
      "Epoch 25/200\n",
      "64/64 [==============================] - 0s 4ms/step - loss: 3475525861376.0000 - val_loss: 3003636776960.0000\n",
      "Epoch 26/200\n",
      "64/64 [==============================] - 0s 4ms/step - loss: 3424776355840.0000 - val_loss: 2997092614144.0000\n",
      "Epoch 27/200\n",
      "64/64 [==============================] - 0s 4ms/step - loss: 3348799160320.0000 - val_loss: 3052590596096.0000\n",
      "Epoch 28/200\n",
      "64/64 [==============================] - 0s 4ms/step - loss: 3299005169664.0000 - val_loss: 2867643285504.0000\n",
      "Epoch 29/200\n",
      "64/64 [==============================] - 0s 4ms/step - loss: 3253974335488.0000 - val_loss: 2906789511168.0000\n",
      "Epoch 30/200\n",
      "64/64 [==============================] - 0s 4ms/step - loss: 3171370139648.0000 - val_loss: 2781146775552.0000\n",
      "Epoch 31/200\n",
      "64/64 [==============================] - 0s 4ms/step - loss: 3114890690560.0000 - val_loss: 2633399009280.0000\n",
      "Epoch 32/200\n",
      "64/64 [==============================] - 0s 4ms/step - loss: 3064482496512.0000 - val_loss: 2573827833856.0000\n",
      "Epoch 33/200\n",
      "64/64 [==============================] - 0s 4ms/step - loss: 3038261805056.0000 - val_loss: 2698753605632.0000\n",
      "Epoch 34/200\n",
      "64/64 [==============================] - 0s 4ms/step - loss: 2972092203008.0000 - val_loss: 2587519352832.0000\n",
      "Epoch 35/200\n",
      "64/64 [==============================] - 0s 4ms/step - loss: 2923715887104.0000 - val_loss: 2335955484672.0000\n",
      "Epoch 36/200\n",
      "64/64 [==============================] - 0s 4ms/step - loss: 2876988719104.0000 - val_loss: 2379976802304.0000\n",
      "Epoch 37/200\n",
      "64/64 [==============================] - 0s 4ms/step - loss: 2837975662592.0000 - val_loss: 2494419697664.0000\n",
      "Epoch 38/200\n",
      "64/64 [==============================] - 0s 4ms/step - loss: 2771738427392.0000 - val_loss: 2506921082880.0000\n",
      "Epoch 39/200\n",
      "64/64 [==============================] - 0s 4ms/step - loss: 2761848520704.0000 - val_loss: 2407230603264.0000\n",
      "Epoch 40/200\n",
      "64/64 [==============================] - 0s 4ms/step - loss: 2777414369280.0000 - val_loss: 2226937921536.0000\n",
      "Epoch 41/200\n",
      "64/64 [==============================] - 0s 4ms/step - loss: 2722367275008.0000 - val_loss: 2417598660608.0000\n",
      "Epoch 42/200\n",
      "64/64 [==============================] - 0s 3ms/step - loss: 2683493154816.0000 - val_loss: 2262642982912.0000\n",
      "Epoch 43/200\n",
      "64/64 [==============================] - 0s 4ms/step - loss: 2641906630656.0000 - val_loss: 2244058808320.0000\n",
      "Epoch 44/200\n",
      "64/64 [==============================] - 0s 4ms/step - loss: 2662081757184.0000 - val_loss: 2127806988288.0000\n",
      "Epoch 45/200\n",
      "64/64 [==============================] - 0s 4ms/step - loss: 2626751823872.0000 - val_loss: 2236837527552.0000\n",
      "Epoch 46/200\n",
      "64/64 [==============================] - 0s 3ms/step - loss: 2613093859328.0000 - val_loss: 2132600684544.0000\n",
      "Epoch 47/200\n",
      "64/64 [==============================] - 0s 4ms/step - loss: 2626668199936.0000 - val_loss: 2122684694528.0000\n",
      "Epoch 48/200\n",
      "64/64 [==============================] - 0s 4ms/step - loss: 2528614809600.0000 - val_loss: 2219738136576.0000\n",
      "Epoch 49/200\n",
      "64/64 [==============================] - 0s 4ms/step - loss: 2528686899200.0000 - val_loss: 2065052467200.0000\n",
      "Epoch 50/200\n",
      "64/64 [==============================] - 0s 4ms/step - loss: 2541474021376.0000 - val_loss: 2113802993664.0000\n",
      "Epoch 51/200\n",
      "64/64 [==============================] - 0s 4ms/step - loss: 2603205525504.0000 - val_loss: 2077145563136.0000\n",
      "Epoch 52/200\n",
      "64/64 [==============================] - 0s 4ms/step - loss: 2501764186112.0000 - val_loss: 2155936088064.0000\n",
      "Epoch 53/200\n",
      "64/64 [==============================] - 0s 3ms/step - loss: 2527419170816.0000 - val_loss: 2146414624768.0000\n",
      "Epoch 54/200\n",
      "64/64 [==============================] - 0s 4ms/step - loss: 2514967330816.0000 - val_loss: 2026425679872.0000\n",
      "Epoch 55/200\n",
      "64/64 [==============================] - 0s 3ms/step - loss: 2444735283200.0000 - val_loss: 2094891270144.0000\n",
      "Epoch 56/200\n",
      "64/64 [==============================] - 0s 3ms/step - loss: 2488103862272.0000 - val_loss: 2050983329792.0000\n",
      "Epoch 57/200\n",
      "64/64 [==============================] - 0s 3ms/step - loss: 2499730210816.0000 - val_loss: 1978399195136.0000\n",
      "Epoch 58/200\n",
      "64/64 [==============================] - 0s 3ms/step - loss: 2518097068032.0000 - val_loss: 1991597621248.0000\n",
      "Epoch 59/200\n",
      "64/64 [==============================] - 0s 4ms/step - loss: 2449722048512.0000 - val_loss: 2130498027520.0000\n",
      "Epoch 60/200\n",
      "64/64 [==============================] - 0s 4ms/step - loss: 2481249583104.0000 - val_loss: 2074786004992.0000\n",
      "Epoch 61/200\n",
      "64/64 [==============================] - 0s 4ms/step - loss: 2549514240000.0000 - val_loss: 1991822147584.0000\n",
      "Epoch 62/200\n",
      "64/64 [==============================] - 0s 3ms/step - loss: 2448223109120.0000 - val_loss: 2036188839936.0000\n",
      "Epoch 63/200\n",
      "64/64 [==============================] - 0s 4ms/step - loss: 2399032311808.0000 - val_loss: 2042674806784.0000\n",
      "Epoch 64/200\n",
      "64/64 [==============================] - 0s 4ms/step - loss: 2444311920640.0000 - val_loss: 2069975007232.0000\n",
      "Epoch 65/200\n",
      "64/64 [==============================] - 0s 4ms/step - loss: 2435414228992.0000 - val_loss: 1999601532928.0000\n",
      "Epoch 66/200\n",
      "64/64 [==============================] - 0s 3ms/step - loss: 2404118691840.0000 - val_loss: 2040578572288.0000\n",
      "Epoch 67/200\n",
      "64/64 [==============================] - 0s 4ms/step - loss: 2448258498560.0000 - val_loss: 1961815572480.0000\n",
      "Epoch 68/200\n",
      "64/64 [==============================] - 0s 4ms/step - loss: 2397146972160.0000 - val_loss: 2035883835392.0000\n",
      "Epoch 69/200\n",
      "64/64 [==============================] - 0s 4ms/step - loss: 2349200048128.0000 - val_loss: 2148409933824.0000\n",
      "Epoch 70/200\n",
      "64/64 [==============================] - 0s 4ms/step - loss: 2418638848000.0000 - val_loss: 1952672382976.0000\n",
      "Epoch 71/200\n",
      "64/64 [==============================] - 0s 4ms/step - loss: 2340515741696.0000 - val_loss: 2023568834560.0000\n",
      "Epoch 72/200\n",
      "64/64 [==============================] - 0s 4ms/step - loss: 2380871499776.0000 - val_loss: 2101941633024.0000\n",
      "Epoch 73/200\n",
      "64/64 [==============================] - 0s 4ms/step - loss: 2391638016000.0000 - val_loss: 2043510259712.0000\n",
      "Epoch 74/200\n",
      "64/64 [==============================] - 0s 4ms/step - loss: 2398572773376.0000 - val_loss: 2059994791936.0000\n",
      "Epoch 75/200\n",
      "64/64 [==============================] - 0s 4ms/step - loss: 2474012573696.0000 - val_loss: 1958907871232.0000\n",
      "Epoch 76/200\n",
      "64/64 [==============================] - 0s 3ms/step - loss: 2350242594816.0000 - val_loss: 1955135619072.0000\n",
      "Epoch 77/200\n",
      "64/64 [==============================] - 0s 3ms/step - loss: 2445625524224.0000 - val_loss: 1975654547456.0000\n",
      "Epoch 78/200\n",
      "64/64 [==============================] - 0s 4ms/step - loss: 2291664420864.0000 - val_loss: 2185550495744.0000\n",
      "Epoch 79/200\n",
      "64/64 [==============================] - 0s 4ms/step - loss: 2337082966016.0000 - val_loss: 1977829425152.0000\n",
      "Epoch 80/200\n",
      "64/64 [==============================] - 0s 4ms/step - loss: 2344641101824.0000 - val_loss: 1915733540864.0000\n",
      "Epoch 81/200\n",
      "64/64 [==============================] - 0s 3ms/step - loss: 2278429032448.0000 - val_loss: 2048628883456.0000\n",
      "Epoch 82/200\n",
      "64/64 [==============================] - 0s 3ms/step - loss: 2332689956864.0000 - val_loss: 1945664094208.0000\n",
      "Epoch 83/200\n",
      "64/64 [==============================] - 0s 4ms/step - loss: 2325157511168.0000 - val_loss: 1950599741440.0000\n",
      "Epoch 84/200\n",
      "64/64 [==============================] - 0s 3ms/step - loss: 2369452769280.0000 - val_loss: 2123525783552.0000\n",
      "Epoch 85/200\n",
      "64/64 [==============================] - 0s 4ms/step - loss: 2341906415616.0000 - val_loss: 1941057437696.0000\n",
      "Epoch 86/200\n",
      "64/64 [==============================] - 0s 3ms/step - loss: 2313569697792.0000 - val_loss: 2127899262976.0000\n",
      "Epoch 87/200\n",
      "64/64 [==============================] - 0s 4ms/step - loss: 2384608624640.0000 - val_loss: 1919651020800.0000\n",
      "Epoch 88/200\n",
      "64/64 [==============================] - 0s 4ms/step - loss: 2352497819648.0000 - val_loss: 2018311929856.0000\n",
      "Epoch 89/200\n",
      "64/64 [==============================] - 0s 3ms/step - loss: 2321946247168.0000 - val_loss: 1950923358208.0000\n",
      "Epoch 90/200\n",
      "64/64 [==============================] - 0s 4ms/step - loss: 2361882050560.0000 - val_loss: 1959207239680.0000\n"
     ]
    }
   ],
   "source": [
    "history = DNN.fit(X_train, y_train, epochs=epochs, verbose=1, batch_size=batch_size, validation_data=(X_val, y_val), callbacks=[early_stop])"
   ]
  },
  {
   "cell_type": "code",
   "execution_count": 389,
   "metadata": {},
   "outputs": [
    {
     "data": {
      "image/png": "[encoded data removed]",
      "text/plain": [
       "<Figure size 1000x600 with 1 Axes>"
      ]
     },
     "metadata": {},
     "output_type": "display_data"
    }
   ],
   "source": [
    "import matplotlib.pyplot as plt\n",
    "\n",
    "# Extract the training and validation loss from the history object\n",
    "train_loss = history.history['loss']\n",
    "val_loss = history.history['val_loss']\n",
    "\n",
    "# Plot the learning curve\n",
    "plt.figure(figsize=(10, 6))\n",
    "plt.plot(train_loss, label='Training Loss', color='blue')\n",
    "plt.plot(val_loss, label='Validation Loss', color='red')\n",
    "plt.title('Learning Curve')\n",
    "plt.xlabel('Epochs')\n",
    "plt.ylabel('Loss')\n",
    "plt.legend()\n",
    "plt.grid(True)\n",
    "plt.show()"
   ]
  },
  {
   "cell_type": "code",
   "execution_count": 390,
   "metadata": {},
   "outputs": [
    {
     "name": "stdout",
     "output_type": "stream",
     "text": [
      "318/318 [==============================] - 0s 574us/step - loss: 1593081724928.0000\n",
      "Test Loss: 1593081724928.0\n"
     ]
    }
   ],
   "source": [
    "loss = DNN.evaluate(X_test, y_test)\n",
    "print(\"Test Loss:\", loss)"
   ]
  },
  {
   "cell_type": "code",
   "execution_count": 391,
   "metadata": {},
   "outputs": [
    {
     "name": "stdout",
     "output_type": "stream",
     "text": [
      "318/318 [==============================] - 0s 539us/step\n",
      "Mean Absolute Error: 360769.6281029501\n",
      "Mean Squared Error: 1593082096049.8352\n",
      "Root Mean Squared Error: 1262173.5601928267\n",
      "R-squared: 0.48153989540314013\n"
     ]
    }
   ],
   "source": [
    "from sklearn.metrics import mean_absolute_error, mean_squared_error, r2_score\n",
    "\n",
    "y_pred = DNN.predict(X_test)\n",
    "mae = mean_absolute_error(y_test, y_pred)\n",
    "mse = mean_squared_error(y_test, y_pred)\n",
    "rmse = mean_squared_error(y_test, y_pred, squared=False)\n",
    "r2 = r2_score(y_test, y_pred)\n",
    "\n",
    "print(\"Mean Absolute Error:\", mae)\n",
    "print(\"Mean Squared Error:\", mse)\n",
    "print(\"Root Mean Squared Error:\", rmse)\n",
    "print(\"R-squared:\", r2)"
   ]
  },
  {
   "cell_type": "code",
   "execution_count": 60,
   "metadata": {},
   "outputs": [
    {
     "name": "stdout",
     "output_type": "stream",
     "text": [
      "1/1 [==============================] - 0s 68ms/step\n",
      "Expected Prices: 175000.0, 425000, 1300000\n",
      "Predicted Prices: 417723.625, 384912.0, 1796492.125\n"
     ]
    }
   ],
   "source": [
    "predictions = DNN.predict([[3.0,1.0,60.0,12022.0,1176.0], [3.0,2.0,2.02,12521.0,1600.0], [4.0,4.0,37.0,12062.0,4000.0]]);\n",
    "print(\"Expected Prices: 175000.0, 425000, 1300000\")\n",
    "print(\"Predicted Prices: {}, {}, {}\".format(predictions[0][0], predictions[1][0], predictions[2][0]))"
   ]
  }
 ],
 "metadata": {
  "kernelspec": {
   "display_name": "Python 3.8.6 64-bit",
   "language": "python",
   "name": "python3"
  },
  "language_info": {
   "codemirror_mode": {
    "name": "ipython",
    "version": 3
   },
   "file_extension": ".py",
   "mimetype": "text/x-python",
   "name": "python",
   "nbconvert_exporter": "python",
   "pygments_lexer": "ipython3",
   "version": "3.8.6"
  },
  "orig_nbformat": 4,
  "vscode": {
   "interpreter": {
    "hash": "06e09188ad4cb5fbad9645030cf25c93fafa7ada9debbe1a566fc3b76c1d60a5"
   }
  }
 },
 "nbformat": 4,
 "nbformat_minor": 2
}
